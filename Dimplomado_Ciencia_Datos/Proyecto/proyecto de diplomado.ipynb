{
 "cells": [
  {
   "cell_type": "markdown",
   "id": "b3ce6ca2-f76d-4523-a638-ac40ca5bd5ed",
   "metadata": {},
   "source": [
    "# <span style=\"color:red\"><center>Proyecto del diplomado de Ciencia de Datos </center></span>\n",
    "### <span style=\"color:blue\"><center>Primera entrega,William Leonardo Alvarez Ortiz </center></span>\n",
    "\n",
    "\n"
   ]
  },
  {
   "cell_type": "markdown",
   "id": "c2fc7a1f-9412-4b80-9e51-053c30cdc142",
   "metadata": {},
   "source": [
    "título: El comportamiento la CARTERA DE CREDITOS Y OPERACIONES DE LEASING de los bancos y el impacto de la T.I de la FED en esta"
   ]
  },
  {
   "cell_type": "markdown",
   "id": "efddfaca-e324-4fae-9e99-3301dad6beb1",
   "metadata": {},
   "source": [
    "Reporte No1 propuesta del proyecto"
   ]
  },
  {
   "cell_type": "markdown",
   "id": "732ed08e-0419-437f-a8d2-0361bb802fcc",
   "metadata": {},
   "source": [
    "Introducción.\n",
    "Una de las variales de mayor interés en el sistema financiero debido a la información que refleja sobre la situación económica del sector bancario y para este proyecto especificamente el caso de Colombia es la CARTERA DE CREDITOS Y OPERACIONES DE LEASING de los bancos , esta es una varible que se ve afectada de multilpes maneras por muchas otras variables macroeconómicas, en este proyecto se buscara teniendo como fundamento teorico, modelos y teorias de politica macroeconómica para paises con situaciones económicas similares a las de colombia(paises en via de desarrollo) revisar como impacta la decisión de tasa de interes(T.I) de la FED,como los cambios en esta ultima afectan nuestra variable a explicar es decir la liquidez de la economia Colombiana y como se relaciona con otras variables que se conoce tienen mucha inbfluencia en la cartera como lo son la inflación, la tasa de desempleo, la tasa de cambio frente a USA (ITCR) y la base monetaria actual.\n"
   ]
  },
  {
   "cell_type": "markdown",
   "id": "4f38f2fd-d650-4c05-a6c8-2e915e183f95",
   "metadata": {},
   "source": [
    "Descripción del problema\n",
    "\n",
    "Debido a la situación económica global dificil asociada a el efecto recoil de la pandemia ocasionado por el aumento de gasto publico de la mayoria de gobiernos del mundo, sumado a una disminución en la productividad mundial en 2020 y 2021, esto junto a otros factores como el conflicto entre Rusia y Ucrania que afecta la cadena de producción de sectores como el agricola o energeticoa  nivel global, o la decisión de la opep de reducir la produccion de petroleo han influido a que se genere un aumento continuo de la tasa de inflación de cada pais a partir del segundo trimestre de 2022, asociado a esto como medida de politica macroeconómica la FED ha decidido mantener una medida de aumentos de las tasas de interes a partir de Marzo-22 y ha anunciado que mantendra esta tendencia varios meces; Cabe aclarar que el porcentaje de aumento de la inflación varia en cada pais dependiendo su contexto economico y politico interno asi como las caracteristicas de su economía, pero si se puede evidenciar una tendencia a que la inflación en la mayoria de los paises del mundo a aumentado en dicho periodo. \n",
    "La T.I de la FED debido a la dependencia económica que tiene Colombia de EEUU es una variable muy relevante en multiples aspectos pues impacta multiples variables de la macroeconómia Colombiana, además como se ha anunciado que se mantendra en tendencia al alza o por lo menos no se tomara una postura de disminuirla en el corto plazo  variables es por esto y lo mencionado al inicio de este parrafo que se vuelve importante el ver como una de las variables de suma importancia para el sector bancario y la economía nacional como lo es la CARTERA DE CREDITOS Y OPERACIONES DE LEASING de los bancosson económicas se ve afectada y que posible impactoy  comportamiento pueda tener esta a futuro con la tendencia creciente de la T.I, además se agregaron al analiss variables macroeconómicas de importancia las cuales en la teoria se espera sean relevantes para la realización de el modelo como los son la inflación, la tasa de desempleo, la tasa de cambio frente a USA (ITCR) y la base monetaria actual, estas variables seran verificadas si son un relevantes y representan una buena estimación o si por el contrario no lo son o falta incorporar alguna variable más para lograr el mejor modelo posible.\n"
   ]
  },
  {
   "cell_type": "markdown",
   "id": "23b173a0-3276-4119-a62c-1fb15732eec8",
   "metadata": {},
   "source": [
    "Fuentes de datos.\n",
    "Se implementaran series de tiempo para el periodo comprendido entre enero-2016 a julio de 2022 con una periodicidad mensual. Ademas se extraeran los datos de tres fuentes principales: \n",
    "1. Banrep: base de datos de base monetaria,ITCR \n",
    "2. DANE: TASA DE DESEMPLEO DESETACIONALIZADA,iNFLACIÓN \n",
    "3. FED: tasa de interes de politica monetaria\n"
   ]
  },
  {
   "cell_type": "markdown",
   "id": "ef72d3dc-1cfc-4faf-b8cd-f3c64de7c9d0",
   "metadata": {},
   "source": [
    "Procesamiento ETL\n",
    " Extracción: Los datos se obtendran de bases de datos y series publicadas por organismos que posean alta veracidad , como banrep, superfinanciera y el reporte de la fed\n",
    " Transformación: Debido a que los datos se manejaran en una periodicidad trimestral estos despues de extraerse para los periodos\n",
    " Carga de datos:. Describen como se hará todo el proeprocesmaiento de información. "
   ]
  },
  {
   "cell_type": "markdown",
   "id": "a659e943-d39a-428b-99de-87fb3ad9e316",
   "metadata": {},
   "source": [
    "Exploración de los datos\n",
    "Indicar que técnicas usaran inicialmente para describir y entender sus datos:\n",
    "Muestras de los datos Estadisticas y grafica univariadas\n",
    "graficas univariadas de tendendia, de dispersion , boxplots \n",
    "Técnicas factoriales: ACP"
   ]
  },
  {
   "cell_type": "markdown",
   "id": "c377d3d3-2c59-4e71-ae8d-a2aee75dbd26",
   "metadata": {},
   "source": [
    "Técnicas de modelación propuestas.\n",
    "\n",
    "Las tecnicas de modelación propuestas se asocian a series de tiempo multivariadas , especificamente se probaran modelos varma impulso respuesta como una de las posibles principales soluciones , pero se hara una comparativa general entre otros tipos de modelos para ver cual es una mejor representación de la realidad, ademas se verificaran si las series de tiempo no tienen problemas de heterocedasticidad,correlacion, estacionaridad y si las variables del modelo si son significativas. "
   ]
  },
  {
   "cell_type": "markdown",
   "id": "a179cc62-baa7-41d3-aa13-a7e205134205",
   "metadata": {},
   "source": [
    "Conocimientos requeridos para el desarrollo del proyecto\n",
    "Se espera que se hayan discutido previamente con el asesor \n",
    "- Bases de datos de indicadores económicos\n",
    "- Teoria de politica macroeconómica y financiera\n",
    "- Python : nivel\n",
    "- R, nivel\n",
    "- Modelos de series de tiempo"
   ]
  },
  {
   "cell_type": "markdown",
   "id": "2961a21b-9b21-47e0-ac30-4fd57da51a2a",
   "metadata": {},
   "source": [
    "Resultados esperados.\n",
    "\n",
    "se espera que en el modelo se pueda ver una relacion inversa entre la ti de la fed y la CARTERA DE CREDITOS Y OPERACIONES DE LEASING de los bancos teniendo presente la teoria sobre como se relacionan macroeconómicamente estas variables, ademas que las otras variables economicas expliquen el comportamiento volatil de esta variable en algunos meses del 2020 y 2021 asociados a la pandemia."
   ]
  },
  {
   "cell_type": "markdown",
   "id": "ebeca86d-6947-4906-b3f1-3518b3fb3768",
   "metadata": {},
   "source": [
    "Tiempo de desarrollo esperado\n",
    "Se espera a partir del planteamiento inicial que la realizacion del proyecto tome maximo 4 semanas, en las siguientes dos semanas tener las primeras versiones del modelo en etapas de revisión para pertinentes correciones o ajustes."
   ]
  }
 ],
 "metadata": {
  "kernelspec": {
   "display_name": "Python 3 (ipykernel)",
   "language": "python",
   "name": "python3"
  },
  "language_info": {
   "codemirror_mode": {
    "name": "ipython",
    "version": 3
   },
   "file_extension": ".py",
   "mimetype": "text/x-python",
   "name": "python",
   "nbconvert_exporter": "python",
   "pygments_lexer": "ipython3",
   "version": "3.10.6"
  }
 },
 "nbformat": 4,
 "nbformat_minor": 5
}
