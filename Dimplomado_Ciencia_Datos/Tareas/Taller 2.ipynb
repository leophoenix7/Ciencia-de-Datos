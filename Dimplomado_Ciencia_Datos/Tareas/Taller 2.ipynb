{
 "cells": [
  {
   "cell_type": "markdown",
   "id": "1f34e17a-e151-477d-a029-75238d6874dd",
   "metadata": {},
   "source": [
    "# <span style=\"color:blue\"><center>Taller 2</center></span>"
   ]
  },
  {
   "cell_type": "markdown",
   "id": "33a45961-bd78-4858-a43d-656a48558cf5",
   "metadata": {},
   "source": [
    "1.funcion que reciba la edad de una persona"
   ]
  },
  {
   "cell_type": "code",
   "execution_count": 11,
   "id": "57bc2ad6-fd7c-4b44-a57d-f069e1cf8ef5",
   "metadata": {},
   "outputs": [
    {
     "name": "stdin",
     "output_type": "stream",
     "text": [
      "ingreses la fecha de nacimiento en formato aaaa/mm/dd 19920804\n"
     ]
    },
    {
     "name": "stdout",
     "output_type": "stream",
     "text": [
      "el usuario tiene 30 años\n"
     ]
    }
   ],
   "source": [
    "import datetime\n",
    "from datetime import date\n",
    "hoy = date.today()\n",
    "fe_=input(\"ingreses la fecha de nacimiento en formato aaaa/mm/dd\")\n",
    "a=int(fe_[0:4])\n",
    "m=int(fe_[4:6])\n",
    "d=int(fe_[6:8])\n",
    "fechan= datetime.date(a,m,d)\n",
    "edadd=(hoy-fechan).days\n",
    "edada=int(edadd/365)\n",
    "print(\"el usuario tiene\",edada,\"años\")\n"
   ]
  },
  {
   "cell_type": "code",
   "execution_count": 31,
   "id": "988c06df-49cd-4f96-951e-4e76582973a9",
   "metadata": {},
   "outputs": [
    {
     "name": "stdin",
     "output_type": "stream",
     "text": [
      "escriba el texto que desea centrar hellou\n"
     ]
    },
    {
     "name": "stdout",
     "output_type": "stream",
     "text": [
      "                                              hellou                                             \n"
     ]
    }
   ],
   "source": [
    "##2 función escribir centrado\n",
    "ora= input(\"escriba el texto que desea centrar\")\n",
    "c=len(ora)\n",
    "cou=100-int(c/2)\n",
    "a=ora.center(cou, \" \")\n",
    "print(a)"
   ]
  },
  {
   "cell_type": "code",
   "execution_count": 37,
   "id": "22ff5e11-2a82-49ef-84fc-c70023e509a1",
   "metadata": {},
   "outputs": [
    {
     "name": "stdin",
     "output_type": "stream",
     "text": [
      "ingrese el texto hellou world\n"
     ]
    },
    {
     "name": "stdout",
     "output_type": "stream",
     "text": [
      "<b><i>hellou world</i></b>\n"
     ]
    }
   ],
   "source": [
    "##3. Construya una función decorada que reciba un texto y lo escriba marcado con Markdown en itálica y resaltada (bold)\n",
    "def logger(func):\n",
    "    def inner():\n",
    "        print('llamando ', func.__name__)\n",
    "        func()\n",
    "        print('llamada', func.__name__)\n",
    "        \n",
    "    return inner\n",
    "\n",
    "tex=input(\"ingrese el texto\")\n",
    "def make_bold(fn):\n",
    "    def makebold_wrapper():\n",
    "        return \"<b>\" + fn() + \"</b>\"\n",
    "    return makebold_wrapper\n",
    "\n",
    "def make_italic(fn):\n",
    "    def makeitalic_wrapper():\n",
    "        return \"<i>\" + fn() + \"</i>\"\n",
    "    return makeitalic_wrapper\n",
    "\n",
    "# aplica los decoradores\n",
    "\n",
    "@make_bold\n",
    "@make_italic\n",
    "def hello():\n",
    "    return tex\n",
    "\n",
    "print(hello())"
   ]
  },
  {
   "cell_type": "code",
   "execution_count": 60,
   "id": "371f749c-de4b-4752-bcb0-be860fd9c7c3",
   "metadata": {},
   "outputs": [
    {
     "name": "stdin",
     "output_type": "stream",
     "text": [
      "ingrese un numero 12\n",
      "ingrese un segundo numero 144\n"
     ]
    },
    {
     "name": "stdout",
     "output_type": "stream",
     "text": [
      "12 es multiplo de 144\n"
     ]
    }
   ],
   "source": [
    "##4.  Crea un programa que pida dos número enteros al usuario y diga si alguno de ellos es múltiplo del otro. \n",
    "n1=input(\"ingrese un numero\")\n",
    "n2=input(\"ingrese un segundo numero\")\n",
    "m1= int(n1)%int(n2)\n",
    "m2= int(n2)%int(n1)\n",
    "try:\n",
    "    m1= int(n1)%int(n2)\n",
    "    m2= int(n2)%int(n1)\n",
    "    if m1==0:\n",
    "        print(n2, \"es multiplo de\", n1)\n",
    "    if m2==0:\n",
    "        print(n1, \"es multiplo de\",n2)\n",
    "except:\n",
    "    print(\"no ha ingresado un valor valido\")\n"
   ]
  },
  {
   "cell_type": "code",
   "execution_count": 82,
   "id": "bc45c3a3-ac81-4dd7-8c47-2ec4c590eae5",
   "metadata": {},
   "outputs": [
    {
     "name": "stdout",
     "output_type": "stream",
     "text": [
      "La temperatura media para los valores aleatorios es 21.333333333333332\n"
     ]
    }
   ],
   "source": [
    "##5. Crear una función re reciba una lista  de 24 valores de temperatura leída  hora en un día y que calcule la temperatura media  Cree una lista con 24 valores de temperatura de un día de Bogotá y pruebe su función. Invente los datos.\n",
    "import numpy as np\n",
    "\n",
    "\n",
    "def temp(x):\n",
    "    s=np.mean(x)\n",
    "    return s\n",
    "\n",
    "a=np.random.randint(50,size=(24))\n",
    "\n",
    "print(\"La temperatura media para los valores aleatorios es\",temp(a))"
   ]
  },
  {
   "cell_type": "code",
   "execution_count": 85,
   "id": "307e8584-c447-4c1d-8fcd-930e487490e6",
   "metadata": {},
   "outputs": [
    {
     "name": "stdin",
     "output_type": "stream",
     "text": [
      "ingrese el texto que desea convertir hola\n"
     ]
    },
    {
     "name": "stdout",
     "output_type": "stream",
     "text": [
      "h o l a\n"
     ]
    }
   ],
   "source": [
    "##5. Crea un función “ConvertirEspaciado”, que reciba como parámetro un texto y devuelve una cadena con un espacio adicional tras cada letra. Por ejemplo, “Hola, tú” devolverá “H o l a , t ú “.  Pruebe\n",
    "tx=input(\"ingrese el texto que desea convertir\")\n",
    "\n",
    "def conv(x):\n",
    "    espa=\" \".join(x)\n",
    "    return espa\n",
    "\n",
    "print(conv(tx))"
   ]
  },
  {
   "cell_type": "code",
   "execution_count": 96,
   "id": "44cd2140-9336-49cb-b4e0-34b4a365f4b7",
   "metadata": {},
   "outputs": [
    {
     "name": "stdout",
     "output_type": "stream",
     "text": [
      "El valor maximo y minimo del arreglo respectivamente son: (126, -26.95)\n"
     ]
    }
   ],
   "source": [
    "##6. Crea una función “calcularMaxMin” que recibe una arreglo con valores numérico y devuelve el valor máximo y el mínimo.\n",
    "maxmin=[1,2,3,4,5,6,7,8,9,17,21,34,56,89,23,61,37,28,126,-26.95]\n",
    "def mamin(x):\n",
    "    mx=x[0]\n",
    "    mi=x[0]\n",
    "    for i in x:\n",
    "        if i>mx:\n",
    "            mx=i\n",
    "            \n",
    "    for i in x:\n",
    "        if i<mi:\n",
    "            mi=i\n",
    "        \n",
    "    return (mx,mi)\n",
    "\n",
    "print(\"El valor maximo y minimo del arreglo respectivamente son:\",mamin(maxmin))\n",
    "\n"
   ]
  },
  {
   "cell_type": "code",
   "execution_count": 100,
   "id": "0ccc1cc8-3d98-4a19-b3d1-622852c6235b",
   "metadata": {},
   "outputs": [
    {
     "name": "stdin",
     "output_type": "stream",
     "text": [
      "ingrese el radio de la circunferencia 5\n"
     ]
    },
    {
     "name": "stdout",
     "output_type": "stream",
     "text": [
      "el area y perimetro de la circunferencia son: (78.53981633974483, 31.41592653589793)\n"
     ]
    }
   ],
   "source": [
    "##7.Diseñar una función que calcule el área y el perímetro de una circunferencia.\n",
    "\n",
    "r=float(input(\"ingrese el radio de la circunferencia\"))\n",
    "def ayp(x):\n",
    "    a=np.pi*(x**2) \n",
    "    p=np.pi*(2*x)\n",
    "    return (a,p)\n",
    "print(\"el area y perimetro de la circunferencia son:\",ayp(r))\n",
    "\n"
   ]
  },
  {
   "cell_type": "code",
   "execution_count": 126,
   "id": "6c6d3532-c188-411b-b240-d92acacd0bff",
   "metadata": {},
   "outputs": [
    {
     "name": "stdin",
     "output_type": "stream",
     "text": [
      "ingrese su usuario leo\n",
      "ingrese su contraseña sad\n",
      "ingrese su usuario usuario1\n",
      "ingrese su contraseña asdasd\n"
     ]
    },
    {
     "name": "stdout",
     "output_type": "stream",
     "text": [
      "('verdadero ha intentado ingresar', 2, 'veces')\n"
     ]
    }
   ],
   "source": [
    "##8. Crear una función  llamada “Login”, que recibe un nombre de usuario y una contraseña y devuelva Verdadero si el nombre de usuario es “usuario1” y la contraseña es “asdasd”. Además recibe el número de intentos que se ha intentado hacer login y si no se ha podido hacer login incremente este valor.\n",
    "ai1=\"usuario1\"\n",
    "bi1=\"asdasd\" \n",
    "\n",
    "def login(x,y):\n",
    "    \n",
    "    us=input(\"ingrese su usuario\")\n",
    "    pw=input(\"ingrese su contraseña\")\n",
    "    ctr=1\n",
    "    while us!=x and pw!=y:\n",
    "        us=input(\"ingrese su usuario\")\n",
    "        pw=input(\"ingrese su contraseña\")\n",
    "        ctr=ctr+1        \n",
    "    return(\"verdadero, ha intentado ingresar\",ctr,\"veces\")\n",
    "\n",
    "\n",
    "print(login(\"usuario1\",\"asdasd\"))      \n",
    "                 "
   ]
  },
  {
   "cell_type": "code",
   "execution_count": 156,
   "id": "c7c483fb-e517-4c76-98fd-b68e600e2551",
   "metadata": {},
   "outputs": [
    {
     "name": "stdout",
     "output_type": "stream",
     "text": [
      "479001600\n"
     ]
    }
   ],
   "source": [
    "##9. Crear una función recursiva que permita calcular el factorial de un número. Realiza un programa principal donde se lea un entero y se muestre el resultado del factorial. Revise la lección de funciones.\n",
    "\n",
    "def facl(l,L,CR):\n",
    "    if l<CR:\n",
    "        return L    \n",
    "    L=L*CR\n",
    "    L=facl(l,L,CR+1)\n",
    "    return(L)\n",
    "\n",
    "CR=1\n",
    "###l es el numero al cual se le quiere sacar el factorial\n",
    "l=12\n",
    "L=1\n",
    "print(facl(l,L,CR))\n",
    "\n"
   ]
  },
  {
   "cell_type": "code",
   "execution_count": 32,
   "id": "ce5fc853-fa07-422f-8b5f-f9112d4e65f4",
   "metadata": {},
   "outputs": [
    {
     "name": "stdout",
     "output_type": "stream",
     "text": [
      "el valor ingresado en segundos es: (1, 'horas', 0, 'min', 58, 'seg')\n",
      "('hay', 92758, 'segundos en la cantidad indicada')\n"
     ]
    }
   ],
   "source": [
    "##10 Escribir dos funciones que permitan calcular:La cantidad de segundos en un tiempo dado en horas, minutos y segundos.La cantidad de horas, minutos y segundos de un tiempo dado en segundos\n",
    "\n",
    "def hrs(h,m,s):\n",
    "    hrs=h*3600\n",
    "    ms=m*60\n",
    "    s=s \n",
    "    y=hrs+ms+s\n",
    "    return(\"hay\",y,\"segundos en la cantidad indicada\")    \n",
    "\n",
    "def shr(j):\n",
    "    hra=int(j/60/60)\n",
    "    j-= hra*60*60 \n",
    "    minutos=int(j/60)\n",
    "    j-= minutos*60\n",
    "    \n",
    "    return(hra,\"horas\",minutos,\"min\",j,\"seg\")\n",
    "    \n",
    "print(\"el valor ingresado en segundos es:\",shr(3658))\n",
    "    \n",
    "print(hrs(25,45,58))        \n",
    " "
   ]
  },
  {
   "cell_type": "code",
   "execution_count": 18,
   "id": "c99dcab8-04db-49f6-8c0c-b8cbb84a0875",
   "metadata": {},
   "outputs": [
    {
     "name": "stdout",
     "output_type": "stream",
     "text": [
      "la tupla original es: (1, 7, 14, 25, 36, 19.64, 88)\n",
      "la nueva tupla invertida es: (88, 19.64, 36, 25, 14, 7, 1)\n"
     ]
    }
   ],
   "source": [
    "##11. Crea una función  que lea una tupla, invierta los valores de la tupla y regrese una nueva tupla invirtiendo los valores. Recuerde que las tuplas son inmutables.\n",
    "##aca la tupla inicial\n",
    "tpla1=(1,7,14,25,36,19.64,88)\n",
    "def tp(x):\n",
    "    list1=list(x)\n",
    "    list1.reverse()\n",
    "    list2=tuple(list1)\n",
    "    return(list2)\n",
    "\n",
    "print(\"la tupla original es:\",tpla1)\n",
    "print(\"la nueva tupla invertida es:\",tp(tpla1))\n"
   ]
  },
  {
   "cell_type": "code",
   "execution_count": 22,
   "id": "8575bb28-1c45-4c11-9457-1df552ab2871",
   "metadata": {},
   "outputs": [
    {
     "name": "stdout",
     "output_type": "stream",
     "text": [
      "la media geometrica de los valores de la lista es : 43.93548161314066\n"
     ]
    }
   ],
   "source": [
    "##12.Escriba una función que lea una lista y calcule la media geométrica de sus valores, usando funtools.reduce.\n",
    "##la lista a leer\n",
    "import functools\n",
    "import numpy as np\n",
    "lt1=[1,3,5,7,16,27,34,85]\n",
    "lit1=functools.reduce(lambda a,b:np.sqrt(a*b),lt1)\n",
    "print(\"la media geometrica de los valores de la lista es :\",lit1)"
   ]
  }
 ],
 "metadata": {
  "kernelspec": {
   "display_name": "Python 3 (ipykernel)",
   "language": "python",
   "name": "python3"
  },
  "language_info": {
   "codemirror_mode": {
    "name": "ipython",
    "version": 3
   },
   "file_extension": ".py",
   "mimetype": "text/x-python",
   "name": "python",
   "nbconvert_exporter": "python",
   "pygments_lexer": "ipython3",
   "version": "3.10.6"
  }
 },
 "nbformat": 4,
 "nbformat_minor": 5
}
