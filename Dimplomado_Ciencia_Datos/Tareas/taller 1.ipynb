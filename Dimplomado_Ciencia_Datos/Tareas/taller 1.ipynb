{
 "cells": [
  {
   "cell_type": "markdown",
   "id": "62c3594d-8542-4905-b1bc-775f31fb275f",
   "metadata": {
    "tags": []
   },
   "source": [
    "# <span style=\"color:#F72585\"><center>Taller Diplomado Ciencia de datos</center></span>\n",
    "    \n",
    "   "
   ]
  },
  {
   "cell_type": "markdown",
   "id": "69363b1e-49a1-4aa4-88a4-a6fd9da5deda",
   "metadata": {},
   "source": [
    "## <span style=\"color:#00008B\"><center>1.Concepto de derivadas</span>"
   ]
  },
  {
   "cell_type": "markdown",
   "id": "01ba84c6-7e58-41fc-b338-abedeaa521d8",
   "metadata": {},
   "source": [
    "<figure>\n",
    "<center>\n",
    "<img src=\"https://raw.githubusercontent.com/leophoenix7/Ciencia-de-Datos/main/Imagenes/Que-es-una-Base-de-Datos_Latam-Dominios.jpg\" width=\"400\" height=\"200\" align=\"center\" /> \n",
    "</center>   \n",
    "</figure>\n",
    "<center>\n",
    "Fuente: [Latam dominios](https://colombia.latamdominios.com/bases-de-datos/)   \n",
    "</center>\n",
    "\n",
    "\n"
   ]
  },
  {
   "cell_type": "markdown",
   "id": "958bc356-9957-491d-9ad8-43150e834f3a",
   "metadata": {},
   "source": [
    "## <span style=\"color:#00008B\"><center>1.3 Perfil del autor</span>"
   ]
  },
  {
   "cell_type": "markdown",
   "id": "20ee2675-417f-45ac-9394-0fd28e4c45de",
   "metadata": {},
   "source": [
    "Mi nombre es Leonardo Alvarez, he finalizado mi pregrado en Economía en la Universidad Nacional, actualmente estoy esperando mi grado para el mes de Noviembre de  2022 y tengo especial interes y afanididad por los sectores financiero y bancario donde desemepeñe mi practica y pasantia en analisis de riesgos específicamente. Además tengo especial interes por todo lo relacionado a la modelación estadistica,financiera y la ciencia de Datos."
   ]
  },
  {
   "cell_type": "markdown",
   "id": "635b53d6-a100-401c-882c-d7a93e96cd2f",
   "metadata": {},
   "source": [
    "<figure>\n",
    "<center>\n",
    "<img src=\"https://raw.githubusercontent.com/leophoenix7/Ciencia-de-Datos/main/Imagenes/imagen%20perfil.jpg\" width=\"200\" height=\"200\" align=\"center\" /> \n",
    "</center>   \n"
   ]
  },
  {
   "cell_type": "markdown",
   "id": "85e77fbb-eab7-4d9d-87ee-386de5b9ea23",
   "metadata": {
    "tags": []
   },
   "source": [
    "## <span style=\"color:#00008B\"><center>1.4 Derivadas</span>"
   ]
  },
  {
   "cell_type": "raw",
   "id": "bd2f0805-9899-4012-8a62-a06214bb160b",
   "metadata": {},
   "source": [
    "La derivada de una función es la razón de cambio instantánea con la que varía el valor de una determinada función matemática, par aun cierto valor de la variablee independiente. La derivada de una función es un concepto local, es decir, se calcula como el límite de la rapidez de cambio media de la función en cierto intervalo, cuando el intervalo considerado para la variable independiente se torna cada vez más pequeño."
   ]
  },
  {
   "cell_type": "markdown",
   "id": "599431b9-abbc-4022-91e6-ae52a1a34a04",
   "metadata": {},
   "source": [
    "<center>\n",
    "$f'(X_{0} )= \\frac{\\Delta y  }{\\Delta x }$"
   ]
  },
  {
   "cell_type": "markdown",
   "id": "cbe9e804-9945-4721-a30d-3f5e8edec7d7",
   "metadata": {},
   "source": [
    "### <span style=\"color:#00008B\">1.5 Ejemplo</span>\n",
    "<center>\n",
    "    $f'(X_{0} )= \\frac{ x^2  }{2 }$\n",
    "    "
   ]
  },
  {
   "cell_type": "markdown",
   "id": "09862e00-3b72-45f2-8920-2d651d20eb3f",
   "metadata": {},
   "source": [
    "<center>\n",
    "$\\frac{\\Delta y  }{\\Delta x }=\\frac{ 2x  }{2}  $"
   ]
  },
  {
   "cell_type": "markdown",
   "id": "e864782b-47a3-40e9-a1ae-67301c0b0905",
   "metadata": {},
   "source": [
    "<center>\n",
    "$\\frac{\\Delta y  }{\\Delta x }=x  $"
   ]
  },
  {
   "cell_type": "markdown",
   "id": "f713e0b8-5711-4c49-9325-c4d7a7fdff1b",
   "metadata": {},
   "source": [
    "## <span style=\"color:#00008B\"><center>1.6 Referencias</span>"
   ]
  },
  {
   "cell_type": "markdown",
   "id": "4c88d708-57c0-45f4-8020-f22f9491da2d",
   "metadata": {},
   "source": [
    "<center>\n",
    "https://www.mat.uson.mx/~jldiaz/contenido_Derivadas.html"
   ]
  },
  {
   "cell_type": "code",
   "execution_count": null,
   "id": "a205174d-d903-4377-be24-c9ae46dc9661",
   "metadata": {},
   "outputs": [],
   "source": []
  }
 ],
 "metadata": {
  "kernelspec": {
   "display_name": "Python 3 (ipykernel)",
   "language": "python",
   "name": "python3"
  },
  "language_info": {
   "codemirror_mode": {
    "name": "ipython",
    "version": 3
   },
   "file_extension": ".py",
   "mimetype": "text/x-python",
   "name": "python",
   "nbconvert_exporter": "python",
   "pygments_lexer": "ipython3",
   "version": "3.10.6"
  }
 },
 "nbformat": 4,
 "nbformat_minor": 5
}
